{
 "cells": [
  {
   "attachments": {},
   "cell_type": "markdown",
   "metadata": {},
   "source": [
    "## Рубежный контроль №1.\n",
    "### ИУ5-22М Халимонов А.М. Вариант 17.\n",
    "#### Задание №17\n",
    "Для набора данных проведите нормализацию для одного (произвольного) числового признака с использованием преобразования Йео-Джонсона (Yeo-Johnson transformation).  \n",
    "#### Задание №37\n",
    "Для набора данных проведите процедуру отбора признаков (feature selection). Используйте класс SelectPercentile для 5% лучших признаков, и метод, основанный на взаимной информации.\n",
    "#### Для студентов группы ИУ5-22М\n",
    "Для произвольной колонки данных построить гистограмму"
   ]
  },
  {
   "cell_type": "code",
   "execution_count": 32,
   "metadata": {},
   "outputs": [],
   "source": [
    "import numpy as np\n",
    "import pandas as pd\n",
    "import seaborn as sns\n",
    "import matplotlib.pyplot as plt\n",
    "import scipy.stats as stats\n",
    "from sklearn.feature_selection import SelectPercentile, mutual_info_classif"
   ]
  },
  {
   "cell_type": "code",
   "execution_count": 39,
   "metadata": {},
   "outputs": [],
   "source": [
    "data = pd.read_csv('../dataset.csv', sep=',', decimal=',')\n",
    "data = data.dropna()\n",
    "dt = data.rename(columns={\n",
    "    \"Area (sq. mi.)\": \"Area\",\n",
    "    \"Pop. Density (per sq. mi.)\" : \"Density\",\n",
    "    \"Coastline (coast/area ratio)\": \"Coastline\",\n",
    "    \"Infant mortality (per 1000 births)\": \"Infant mortality\",\n",
    "    \"GDP ($ per capita)\": \"GDP\",\n",
    "    \"Literacy (%)\": \"Literacy\",\n",
    "    \"Phones (per 1000)\": \"Phones\",\n",
    "    \"Arable (%)\": \"Arable\",\n",
    "    \"Crops (%)\": \"Crops\",\n",
    "    \"Other (%)\": \"Other\",\n",
    "})"
   ]
  },
  {
   "cell_type": "code",
   "execution_count": 40,
   "metadata": {},
   "outputs": [
    {
     "data": {
      "text/plain": [
       "Country              object\n",
       "Region               object\n",
       "Population            int64\n",
       "Area                  int64\n",
       "Density             float64\n",
       "Coastline           float64\n",
       "Net migration       float64\n",
       "Infant mortality    float64\n",
       "GDP                 float64\n",
       "Literacy            float64\n",
       "Phones              float64\n",
       "Arable              float64\n",
       "Crops               float64\n",
       "Other               float64\n",
       "Climate             float64\n",
       "Birthrate           float64\n",
       "Deathrate           float64\n",
       "Agriculture         float64\n",
       "Industry            float64\n",
       "Service             float64\n",
       "dtype: object"
      ]
     },
     "execution_count": 40,
     "metadata": {},
     "output_type": "execute_result"
    }
   ],
   "source": [
    "dt.dtypes"
   ]
  },
  {
   "attachments": {},
   "cell_type": "markdown",
   "metadata": {},
   "source": [
    "### Нормализация числового признака преобразованием Йео-Джонсона + построение гистограммы\n",
    "Столбец до преобразования"
   ]
  },
  {
   "cell_type": "code",
   "execution_count": 41,
   "metadata": {},
   "outputs": [
    {
     "data": {
      "text/plain": [
       "(array([171.,   5.,   0.,   0.,   0.,   0.,   0.,   0.,   0.,   1.,   1.,\n",
       "          0.,   0.,   0.,   0.,   0.,   0.,   0.,   0.,   0.,   0.,   0.,\n",
       "          0.,   0.,   1.]),\n",
       " array([1.8000000e+00, 6.4904800e+02, 1.2962960e+03, 1.9435440e+03,\n",
       "        2.5907920e+03, 3.2380400e+03, 3.8852880e+03, 4.5325360e+03,\n",
       "        5.1797840e+03, 5.8270320e+03, 6.4742800e+03, 7.1215280e+03,\n",
       "        7.7687760e+03, 8.4160240e+03, 9.0632720e+03, 9.7105200e+03,\n",
       "        1.0357768e+04, 1.1005016e+04, 1.1652264e+04, 1.2299512e+04,\n",
       "        1.2946760e+04, 1.3594008e+04, 1.4241256e+04, 1.4888504e+04,\n",
       "        1.5535752e+04, 1.6183000e+04]),\n",
       " <BarContainer object of 25 artists>)"
      ]
     },
     "execution_count": 41,
     "metadata": {},
     "output_type": "execute_result"
    },
    {
     "data": {
      "image/png": "[encoded data removed]",
      "text/plain": [
       "<Figure size 432x288 with 1 Axes>"
      ]
     },
     "metadata": {
      "needs_background": "light"
     },
     "output_type": "display_data"
    }
   ],
   "source": [
    "col_to_normalize = 'Density'\n",
    "plt.hist(dt[col_to_normalize], bins=25)"
   ]
  },
  {
   "attachments": {},
   "cell_type": "markdown",
   "metadata": {},
   "source": [
    "После преобразования"
   ]
  },
  {
   "cell_type": "code",
   "execution_count": 42,
   "metadata": {},
   "outputs": [
    {
     "data": {
      "text/plain": [
       "(array([ 4.,  5.,  2.,  3.,  4., 10.,  9., 11.,  9., 15., 21., 19., 17.,\n",
       "        13., 13., 13.,  2.,  2.,  4.,  0.,  0.,  0.,  2.,  0.,  1.]),\n",
       " array([1.00072809, 1.26046912, 1.52021015, 1.77995118, 2.03969221,\n",
       "        2.29943325, 2.55917428, 2.81891531, 3.07865634, 3.33839737,\n",
       "        3.59813841, 3.85787944, 4.11762047, 4.3773615 , 4.63710253,\n",
       "        4.89684357, 5.1565846 , 5.41632563, 5.67606666, 5.93580769,\n",
       "        6.19554873, 6.45528976, 6.71503079, 6.97477182, 7.23451285,\n",
       "        7.49425388]),\n",
       " <BarContainer object of 25 artists>)"
      ]
     },
     "execution_count": 42,
     "metadata": {},
     "output_type": "execute_result"
    },
    {
     "data": {
      "image/png": "[encoded data removed]",
      "text/plain": [
       "<Figure size 432x288 with 1 Axes>"
      ]
     },
     "metadata": {
      "needs_background": "light"
     },
     "output_type": "display_data"
    }
   ],
   "source": [
    "normalized_col, params = stats.yeojohnson(dt[col_to_normalize]) \n",
    "plt.hist(normalized_col, bins=25)"
   ]
  },
  {
   "attachments": {},
   "cell_type": "markdown",
   "metadata": {},
   "source": [
    "### Отбор 5% признаков с помощью класса SelectPercentile и метода основанного на взаимной информации"
   ]
  },
  {
   "cell_type": "code",
   "execution_count": 48,
   "metadata": {},
   "outputs": [
    {
     "name": "stdout",
     "output_type": "stream",
     "text": [
      "(179, 18) (179,)\n"
     ]
    }
   ],
   "source": [
    "y = dt['Region']\n",
    "x = dt[dt.columns.difference(['Region', 'Country'])]\n",
    "print(x.shape, y.shape)"
   ]
  },
  {
   "attachments": {},
   "cell_type": "markdown",
   "metadata": {},
   "source": [
    "Отберём 5% лучших призноков, отобранных с помощью метода mutual_info_classif для задачи классификации"
   ]
  },
  {
   "cell_type": "code",
   "execution_count": 59,
   "metadata": {},
   "outputs": [
    {
     "data": {
      "text/plain": [
       "[('Agriculture', False, 0.3872588200294662),\n",
       " ('Arable', False, 0.0581045416201893),\n",
       " ('Area', False, 0.1452879259501465),\n",
       " ('Birthrate', False, 0.5020164544179244),\n",
       " ('Climate', False, 0.5116095279061219),\n",
       " ('Coastline', False, 0.14123431384327922),\n",
       " ('Crops', False, 0.1715009824940381),\n",
       " ('Deathrate', True, 0.6004850667254602),\n",
       " ('Density', False, 0.12802528491165877),\n",
       " ('GDP', False, 0.5473226827591451),\n",
       " ('Industry', False, 0.10941572986152304),\n",
       " ('Infant mortality', False, 0.5673584630185591),\n",
       " ('Literacy', False, 0.5792377851447008),\n",
       " ('Net migration', False, 0.4210646044865216),\n",
       " ('Other', False, 0.06750685868500872),\n",
       " ('Phones', False, 0.5675812441645043),\n",
       " ('Population', False, 0.18711262185393363),\n",
       " ('Service', False, 0.24369352747766904)]"
      ]
     },
     "execution_count": 59,
     "metadata": {},
     "output_type": "execute_result"
    }
   ],
   "source": [
    "sel_mi = SelectPercentile(mutual_info_classif, percentile=5).fit(x, y)\n",
    "\n",
    "list(zip(x.columns, sel_mi.get_support(), sel_mi.scores_))"
   ]
  }
 ],
 "metadata": {
  "kernelspec": {
   "display_name": "Python 3",
   "language": "python",
   "name": "python3"
  },
  "language_info": {
   "codemirror_mode": {
    "name": "ipython",
    "version": 3
   },
   "file_extension": ".py",
   "mimetype": "text/x-python",
   "name": "python",
   "nbconvert_exporter": "python",
   "pygments_lexer": "ipython3",
   "version": "3.9.5"
  },
  "orig_nbformat": 4
 },
 "nbformat": 4,
 "nbformat_minor": 2
}
